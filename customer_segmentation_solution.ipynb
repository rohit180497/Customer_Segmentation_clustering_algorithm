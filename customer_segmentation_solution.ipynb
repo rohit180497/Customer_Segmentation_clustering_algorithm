{
 "cells": [
  {
   "cell_type": "code",
   "execution_count": 4,
   "metadata": {},
   "outputs": [],
   "source": [
    "# import packages\n",
    "\n",
    "import pandas as pd\n",
    "import numpy as np\n",
    "import seaborn as sns\n",
    "import matplotlib.pyplot as plt \n",
    "from sklearn.cluster import KMeans\n",
    "from sklearn.decomposition import PCA\n",
    "\n"
   ]
  },
  {
   "cell_type": "code",
   "execution_count": 5,
   "metadata": {},
   "outputs": [],
   "source": [
    "# Load Offers\n",
    "path = \"/Users/rahulkosamkar/Documents/Data_Science/Projects/customer_segmentation_clustering/file.xlsx\"\n",
    "offers = pd.read_excel(path, sheet_name=0)\n"
   ]
  },
  {
   "cell_type": "code",
   "execution_count": 6,
   "metadata": {},
   "outputs": [],
   "source": [
    "# Load Transactions\n",
    "transactions = pd.read_excel(path, sheet_name=1)\n",
    "transactions['n'] = 1"
   ]
  },
  {
   "cell_type": "code",
   "execution_count": 7,
   "metadata": {},
   "outputs": [],
   "source": [
    "# Merge dataframes\n",
    "df = pd.merge(transactions, offers)\n"
   ]
  },
  {
   "cell_type": "code",
   "execution_count": 8,
   "metadata": {},
   "outputs": [
    {
     "name": "stdout",
     "output_type": "stream",
     "text": [
      "  Customer Last Name  Offer #  n Campaign    Varietal  Minimum Qty (kg)  \\\n",
      "0              Smith        2  1  January  Pinot Noir                72   \n",
      "1          Rodriguez        2  1  January  Pinot Noir                72   \n",
      "2             Martin        2  1  January  Pinot Noir                72   \n",
      "3            Jackson        2  1  January  Pinot Noir                72   \n",
      "4           Campbell        2  1  January  Pinot Noir                72   \n",
      "\n",
      "   Discount (%)  Origin  Past Peak  \n",
      "0            17  France      False  \n",
      "1            17  France      False  \n",
      "2            17  France      False  \n",
      "3            17  France      False  \n",
      "4            17  France      False  \n"
     ]
    }
   ],
   "source": [
    "# Look at the first 5 rows\n",
    "print(df.head())"
   ]
  },
  {
   "cell_type": "code",
   "execution_count": 9,
   "metadata": {},
   "outputs": [],
   "source": [
    "# create pivot table\n",
    "matrix = df.pivot_table(index='Customer Last Name', columns='Offer #', values='n')\n"
   ]
  },
  {
   "cell_type": "code",
   "execution_count": 10,
   "metadata": {},
   "outputs": [],
   "source": [
    "# replace missing values with 0\n",
    "matrix.fillna(0, inplace=True)\n"
   ]
  },
  {
   "cell_type": "code",
   "execution_count": 11,
   "metadata": {},
   "outputs": [
    {
     "name": "stdout",
     "output_type": "stream",
     "text": [
      "Offer # Customer Last Name    1    2    3    4    5    6    7    8    9  ...  \\\n",
      "0                    Adams  0.0  0.0  0.0  0.0  0.0  0.0  0.0  0.0  0.0  ...   \n",
      "1                    Allen  0.0  0.0  0.0  0.0  0.0  0.0  0.0  0.0  1.0  ...   \n",
      "2                 Anderson  0.0  0.0  0.0  0.0  0.0  0.0  0.0  0.0  0.0  ...   \n",
      "3                   Bailey  0.0  0.0  0.0  0.0  0.0  0.0  1.0  0.0  0.0  ...   \n",
      "4                    Baker  0.0  0.0  0.0  0.0  0.0  0.0  1.0  0.0  0.0  ...   \n",
      "\n",
      "Offer #   23   24   25   26   27   28   29   30   31   32  \n",
      "0        0.0  0.0  0.0  0.0  0.0  0.0  1.0  1.0  0.0  0.0  \n",
      "1        0.0  0.0  0.0  0.0  1.0  0.0  0.0  0.0  0.0  0.0  \n",
      "2        0.0  1.0  0.0  1.0  0.0  0.0  0.0  0.0  0.0  0.0  \n",
      "3        0.0  0.0  0.0  0.0  0.0  0.0  0.0  1.0  0.0  0.0  \n",
      "4        0.0  0.0  0.0  0.0  0.0  0.0  0.0  0.0  1.0  0.0  \n",
      "\n",
      "[5 rows x 33 columns]\n"
     ]
    }
   ],
   "source": [
    "# reindex pivot table\n",
    "matrix.reset_index(inplace=True)\n",
    "\n",
    "# display first 5 rows\n",
    "print(matrix.head())"
   ]
  },
  {
   "cell_type": "code",
   "execution_count": 12,
   "metadata": {},
   "outputs": [
    {
     "name": "stdout",
     "output_type": "stream",
     "text": [
      "Offer # Customer Last Name    1    2    3    4    5    6    7    8    9  ...  \\\n",
      "0                    Adams  0.0  0.0  0.0  0.0  0.0  0.0  0.0  0.0  0.0  ...   \n",
      "1                    Allen  0.0  0.0  0.0  0.0  0.0  0.0  0.0  0.0  1.0  ...   \n",
      "2                 Anderson  0.0  0.0  0.0  0.0  0.0  0.0  0.0  0.0  0.0  ...   \n",
      "3                   Bailey  0.0  0.0  0.0  0.0  0.0  0.0  1.0  0.0  0.0  ...   \n",
      "4                    Baker  0.0  0.0  0.0  0.0  0.0  0.0  1.0  0.0  0.0  ...   \n",
      "\n",
      "Offer #   24   25   26   27   28   29   30   31   32  cluster  \n",
      "0        0.0  0.0  0.0  0.0  0.0  1.0  1.0  0.0  0.0        0  \n",
      "1        0.0  0.0  0.0  1.0  0.0  0.0  0.0  0.0  0.0        2  \n",
      "2        1.0  0.0  1.0  0.0  0.0  0.0  0.0  0.0  0.0        1  \n",
      "3        0.0  0.0  0.0  0.0  0.0  0.0  1.0  0.0  0.0        0  \n",
      "4        0.0  0.0  0.0  0.0  0.0  0.0  0.0  1.0  0.0        2  \n",
      "\n",
      "[5 rows x 34 columns]\n"
     ]
    }
   ],
   "source": [
    "# initialize KMeans object\n",
    "cluster = KMeans(n_clusters=5, init='k-means++', max_iter=300, n_init=10, random_state=0)\n",
    "\n",
    "# create 'cluster' column\n",
    "matrix['cluster'] = cluster.fit_predict(matrix[matrix.columns[1:]])\n",
    "\n",
    "print(matrix.head())\n"
   ]
  },
  {
   "cell_type": "code",
   "execution_count": 13,
   "metadata": {},
   "outputs": [],
   "source": [
    "# initialize pca object with 2 components\n",
    "pca = PCA(n_components=2, random_state=0)\n"
   ]
  },
  {
   "cell_type": "code",
   "execution_count": 14,
   "metadata": {},
   "outputs": [],
   "source": [
    "# create 'x' and 'y' columns donoting observation locations in decomposed form\n",
    "matrix['x'] = pca.fit_transform(matrix[matrix.columns[1:]])[:,0]\n",
    "matrix['y'] = pca.fit_transform(matrix[matrix.columns[1:]])[:,1]\n"
   ]
  },
  {
   "cell_type": "code",
   "execution_count": 15,
   "metadata": {},
   "outputs": [
    {
     "data": {
      "image/png": "[encoded data removed]",
      "text/plain": [
       "<Figure size 432x288 with 2 Axes>"
      ]
     },
     "metadata": {
      "needs_background": "light"
     },
     "output_type": "display_data"
    }
   ],
   "source": [
    "# dataframe to visualize clusters by customer names\n",
    "clusters = matrix.iloc[:,[0,33,34,35]]\n",
    "\n",
    "# visualize clusters\n",
    "clusters.plot.scatter(x='x', y='y', c='cluster', colormap='viridis')\n",
    "plt.show()"
   ]
  },
  {
   "cell_type": "code",
   "execution_count": 16,
   "metadata": {},
   "outputs": [
    {
     "name": "stdout",
     "output_type": "stream",
     "text": [
      "  Customer Last Name  cluster         x         y  Offer #  n\n",
      "0              Adams        0 -1.852539 -0.461418       18  1\n",
      "1              Adams        0 -1.852539 -0.461418       29  1\n",
      "2              Adams        0 -1.852539 -0.461418       30  1\n",
      "3              Allen        2  0.482911  0.184745        9  1\n",
      "4              Allen        2  0.482911  0.184745       27  1\n",
      "=========================\n"
     ]
    }
   ],
   "source": [
    "# merge 'clusters' and 'transactions'\n",
    "data = pd.merge(clusters, transactions)\n",
    "print(data.head())\n",
    "print('='*25)\n",
    "\n"
   ]
  },
  {
   "cell_type": "code",
   "execution_count": 17,
   "metadata": {},
   "outputs": [
    {
     "name": "stdout",
     "output_type": "stream",
     "text": [
      "   Offer # Campaign Varietal  Minimum Qty (kg)  Discount (%)  Origin  \\\n",
      "0        1  January   Malbec                72            56  France   \n",
      "1        1  January   Malbec                72            56  France   \n",
      "2        1  January   Malbec                72            56  France   \n",
      "3        1  January   Malbec                72            56  France   \n",
      "4        1  January   Malbec                72            56  France   \n",
      "\n",
      "   Past Peak Customer Last Name  cluster         x         y  n  \n",
      "0      False             Butler        3  1.480626 -0.358515  1  \n",
      "1      False             Fisher        3  1.577292 -0.201546  1  \n",
      "2      False             Foster        3  1.625904  0.106931  1  \n",
      "3      False            Jackson        3  1.605140  0.276741  1  \n",
      "4      False           Mitchell        2  0.427834  0.416459  1  \n",
      "=========================\n"
     ]
    }
   ],
   "source": [
    "# merge `data` and `offers`\n",
    "data = pd.merge(offers, data)\n",
    "print(data.head())\n",
    "print('='*25)\n"
   ]
  },
  {
   "cell_type": "code",
   "execution_count": 18,
   "metadata": {},
   "outputs": [
    {
     "name": "stdout",
     "output_type": "stream",
     "text": [
      "2\n"
     ]
    }
   ],
   "source": [
    "# initialzie empty dictionary\n",
    "champagne = {}\n",
    "\n",
    "# iterate over every cluster\n",
    "for val in data.cluster.unique():\n",
    "    # observation falls in that cluster\n",
    "    new_df = data[data.cluster == val]\n",
    "    # sort cluster according to type of 'Varietal'\n",
    "    counts = new_df['Varietal'].value_counts(ascending=False)\n",
    "    # check if 'Champagne' is ordered mostly\n",
    "    if counts.index[0] == 'Champagne':\n",
    "        # add it to 'champagne'\n",
    "        champagne[val] = (counts[0])\n",
    "\n",
    "# get cluster with maximum orders of 'Champagne' \n",
    "cluster_champagne = max(champagne, key=champagne.get)\n",
    "\n",
    "# print out cluster number\n",
    "print(cluster_champagne)\n"
   ]
  },
  {
   "cell_type": "code",
   "execution_count": 19,
   "metadata": {},
   "outputs": [
    {
     "name": "stdout",
     "output_type": "stream",
     "text": [
      "4\n"
     ]
    }
   ],
   "source": [
    "# empty dictionary\n",
    "discount = {} \n",
    "\n",
    "# iterate over cluster numbers\n",
    "for val in data.cluster.unique():\n",
    "    # dataframe for every cluster\n",
    "    new_df = data[data.cluster == val]\n",
    "    # average discount for cluster\n",
    "    counts = new_df['Discount (%)'].values.sum() / len(new_df)\n",
    "    # adding cluster number as key and average discount as value \n",
    "    discount[val] = counts\n",
    "\n",
    "# cluster with maximum average discount\n",
    "cluster_discount = max(discount, key=discount.get)\n",
    "print(cluster_discount)"
   ]
  },
  {
   "cell_type": "code",
   "execution_count": null,
   "metadata": {},
   "outputs": [],
   "source": []
  }
 ],
 "metadata": {
  "kernelspec": {
   "display_name": "Python 3",
   "language": "python",
   "name": "python3"
  },
  "language_info": {
   "codemirror_mode": {
    "name": "ipython",
    "version": 3
   },
   "file_extension": ".py",
   "mimetype": "text/x-python",
   "name": "python",
   "nbconvert_exporter": "python",
   "pygments_lexer": "ipython3",
   "version": "3.8.5"
  }
 },
 "nbformat": 4,
 "nbformat_minor": 4
}
